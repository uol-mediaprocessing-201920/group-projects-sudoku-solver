{
  "nbformat": 4,
  "nbformat_minor": 0,
  "metadata": {
    "colab": {
      "name": "defs_common.ipynb",
      "provenance": [],
      "include_colab_link": true
    },
    "kernelspec": {
      "name": "python3",
      "display_name": "Python 3"
    }
  },
  "cells": [
    {
      "cell_type": "markdown",
      "metadata": {
        "id": "view-in-github",
        "colab_type": "text"
      },
      "source": [
        "<a href=\"https://colab.research.google.com/github/uol-mediaprocessing/group-projects-sudoku-solver/blob/master/defs_common.ipynb\" target=\"_parent\"><img src=\"https://colab.research.google.com/assets/colab-badge.svg\" alt=\"Open In Colab\"/></a>"
      ]
    },
    {
      "cell_type": "code",
      "metadata": {
        "id": "LLvo-JHElmjd",
        "colab_type": "code",
        "colab": {}
      },
      "source": [
        "import matplotlib.pyplot as plt\n",
        "import matplotlib.colors\n",
        "import numpy as np\n",
        "import math\n",
        "import random"
      ],
      "execution_count": 0,
      "outputs": []
    },
    {
      "cell_type": "code",
      "metadata": {
        "id": "NIZyqz_plhcm",
        "colab_type": "code",
        "colab": {}
      },
      "source": [
        "def show_images(images, titles=None, cmap=None, rows=None, columns=None, scaling=(5, 5), n_samples=None, i_samples=None, normalize=False):\n",
        "  assert not (n_samples is not None and i_samples is not None)\n",
        "\n",
        "  if titles is None:\n",
        "    titles = [\"[%d]\" % i for i in range(len(images))]\n",
        "  \n",
        "  if n_samples is not None:\n",
        "    indices = random.sample(range(len(images)), n_samples)\n",
        "    images = [images[i] for i in indices]\n",
        "    titles = [titles[i] for i in indices] \n",
        "  elif i_samples is not None:\n",
        "    images = [images[i] for i in i_samples]\n",
        "    titles = [titles[i] for i in i_samples]\n",
        "  \n",
        "  if rows is None and columns is None:\n",
        "    rows = math.ceil(math.sqrt(len(images)))\n",
        "  if rows is None:\n",
        "    rows = math.ceil(len(images) / columns)\n",
        "  if columns is None:\n",
        "    columns = math.ceil(len(images) / rows)\n",
        "\n",
        "  plt.figure(figsize=(scaling[1] * columns, scaling[0] * rows))\n",
        "  for i, image in enumerate(images):\n",
        "    if len(image.shape) == 3 and image.shape[-1] == 1:\n",
        "      # assume grayscale image with single channel has been passed\n",
        "      # matplotlib does not like that\n",
        "      image = image.reshape(image.shape[:-1])\n",
        "    if not normalize and image.dtype.name.startswith(\"uint\"):\n",
        "      normalizer = matplotlib.colors.Normalize(vmin=0, vmax=255)\n",
        "    elif not normalize and image.dtype.name.startswith(\"float\"):\n",
        "      normalizer = matplotlib.colors.Normalize(vmin=0.0, vmax=1.0)\n",
        "    else:\n",
        "      normalizer = matplotlib.colors.Normalize()\n",
        "    plt.subplot(rows, columns, i + 1)\n",
        "    plt.title(titles[i])\n",
        "    plt.imshow(image, cmap=cmap, norm=normalizer)\n",
        "  plt.tight_layout()\n",
        "  plt.show()"
      ],
      "execution_count": 0,
      "outputs": []
    },
    {
      "cell_type": "code",
      "metadata": {
        "id": "2nH3ZHFxlwck",
        "colab_type": "code",
        "colab": {}
      },
      "source": [
        "def print_grid(grid):\n",
        "  print(\"-------------------------------------\")\n",
        "  for row in grid:\n",
        "    for col in row:\n",
        "      if col >= 1 and col <= 9:\n",
        "        print(\"| {} \".format(col), end=\"\")\n",
        "      else:\n",
        "        print(\"|   \", end=\"\")\n",
        "    print(\"|\\n-------------------------------------\")"
      ],
      "execution_count": 0,
      "outputs": []
    }
  ]
}