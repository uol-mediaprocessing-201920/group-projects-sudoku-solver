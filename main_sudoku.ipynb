{
  "nbformat": 4,
  "nbformat_minor": 0,
  "metadata": {
    "colab": {
      "name": "main_sudoku.ipynb",
      "provenance": [],
      "collapsed_sections": [],
      "authorship_tag": "ABX9TyPc7vZ+y9P5k+UuATaSOXv3",
      "include_colab_link": true
    },
    "kernelspec": {
      "name": "python3",
      "display_name": "Python 3"
    }
  },
  "cells": [
    {
      "cell_type": "markdown",
      "metadata": {
        "id": "view-in-github",
        "colab_type": "text"
      },
      "source": [
        "<a href=\"https://colab.research.google.com/github/uol-mediaprocessing/group-projects-sudoku-solver/blob/master/main_sudoku.ipynb\" target=\"_parent\"><img src=\"https://colab.research.google.com/assets/colab-badge.svg\" alt=\"Open In Colab\"/></a>"
      ]
    },
    {
      "cell_type": "markdown",
      "metadata": {
        "id": "L-Qj7nFxpCap",
        "colab_type": "text"
      },
      "source": [
        "# Introduction\n",
        "\n",
        "In this project a software is developed which recognizes a Sudoku puzzle and solves it automatically.\n",
        "\n",
        "![Sudoku Puzzle](https://github.com/uol-mediaprocessing/group-projects-sudoku-solver/blob/master/Aufgabe.jpg?raw=1)\n",
        "\n",
        "# Group members\n",
        "* Justine Bruns (Business Informatics)\n",
        "\n",
        "* Dennis Kempf (Computing Science)\n",
        "\n"
      ]
    },
    {
      "cell_type": "markdown",
      "metadata": {
        "id": "r64vMQzuv7zE",
        "colab_type": "text"
      },
      "source": [
        "# Use Cases and Limitations\n",
        "\n",
        "- User requires assistence solving a Sudoku puzzle\n",
        "  - User has not made any custom entries yet\n",
        "  - User has made custom entries\n",
        "    - User has made digital/computer-generated entries (e. g. in Sudoku app)\n",
        "    - User has made handwritten entries (pen and paper Sudoku)\n",
        "      - **Limitation**: We do not differentiate between handwritten and computer-generated digits\n",
        "- A Sudoku puzzle may have multiple solutions (non-proper Sudoku)\n",
        "  - **Limitation**: We only work with the first solution provided by solver algorithm\n",
        "- Sudokus are differently colored\n",
        "  - **Limitation**: We focus on Sudokus with light background and dark foreground (border/digits) preferrably black-on-white\n",
        "- Photos are taken from different perspectives\n",
        "  - **Limitation**: Sudoku must not be angled more than 45 degrees respective to the camera's view (also no horizontally/vertically flipped images)\n",
        "- Sudokus with more than 9 and less than 9 digits/rows/columns exist (e. g. 8x8 or 7x7)\n",
        "  - **Limitation**: We only consider 9x9 Sudokus but keep the possibility of different types of Sudokus during development in mind\n"
      ]
    },
    {
      "cell_type": "markdown",
      "metadata": {
        "id": "y39HfnD6paLu",
        "colab_type": "text"
      },
      "source": [
        "# Implementation\n",
        "\n",
        "Our implemenation of the application is split across multiple notebooks that work together like a pipeline.\n",
        "Each notebook starts with a chapter \"*Preamble*\" which installs necessary packages and fetches output from previous stages.\n",
        "At the end of each notebook there is a chapter \"*Export*\" which summarizes the respective results and uploads them to Google Drive for the following stages to continue working on.\n",
        "\n",
        "The following graphic illustrates the basic concept of our processing pipeline:\n",
        "\n",
        "![Illustration of our processing pipeline](https://github.com/uol-mediaprocessing/group-projects-sudoku-solver/blob/master/documentation/pipeline.png?raw=true)\n",
        "\n",
        "In the following each stage of our pipeline will be summarized and a link to the corresponding notebook will be provided where the exact steps are explained in depth.\n",
        "\n",
        "## 0. Acquisition\n",
        "\n",
        "Before we can actually start our pipeline we need data to feed it.\n",
        "This data consists of input images taken using cameras and labels describing the image contents, e. g. what digit each cell contains.\n",
        "\n",
        "[Link to the notebook on GitHub](https://github.com/uol-mediaprocessing/group-projects-sudoku-solver/blob/master/main_acquisition.ipynb)\n",
        "\n",
        "[![Open in Colab](https://raw.githubusercontent.com/uol-mediaprocessing/group-projects-sudoku-solver/master/documentation/open_in_colab.png)](https://colab.research.google.com/github/uol-mediaprocessing/group-projects-sudoku-solver/blob/master/main_acquisition.ipynb)\n",
        "\n",
        "## 1. Detection\n",
        "\n",
        "The \"real\" first step is to detect the edges/corners of the Sudoku puzzle within the input image.\n",
        "Detected contours that are most certainly incorrect will be filtered out automatically.\n",
        "\n",
        "![Detection Visualization](https://github.com/uol-mediaprocessing/group-projects-sudoku-solver/blob/master/documentation/detection.png?raw=true)\n",
        "\n",
        "[Link to the notebook on GitHub](https://github.com/uol-mediaprocessing/group-projects-sudoku-solver/blob/master/main_detection.ipynb)\n",
        "\n",
        "[![Open in Colab](https://raw.githubusercontent.com/uol-mediaprocessing/group-projects-sudoku-solver/master/documentation/open_in_colab.png)](https://colab.research.google.com/github/uol-mediaprocessing/group-projects-sudoku-solver/blob/master/main_detection.ipynb)\n",
        "\n",
        "## 2. Transformation\n",
        "\n",
        "With this knowledge we can compute a transformed view of the input image that looks like it was shot straigth from above.\n",
        "We ask the developer to filter out all images where the transformation did not succeed as expected. \n",
        "\n",
        "![Transformation Visualization](https://github.com/uol-mediaprocessing/group-projects-sudoku-solver/blob/master/documentation/transformation.png?raw=true)\n",
        "\n",
        "[Link to the notebook on GitHub](https://github.com/uol-mediaprocessing/group-projects-sudoku-solver/blob/master/main_transformation.ipynb)\n",
        "\n",
        "[![Open in Colab](https://raw.githubusercontent.com/uol-mediaprocessing/group-projects-sudoku-solver/master/documentation/open_in_colab.png)](https://colab.research.google.com/github/uol-mediaprocessing/group-projects-sudoku-solver/blob/master/main_transformation.ipynb)\n",
        "\n",
        "## 3. Extraction\n",
        "\n",
        "We now divide the image into 9*9 squares.\n",
        "Because of the previous transformation each square should now contain exactly one cell of the Sudoku puzzle. \n",
        "\n",
        "![Extraction Visualization](https://github.com/uol-mediaprocessing/group-projects-sudoku-solver/blob/master/documentation/extraction.png?raw=true)\n",
        "\n",
        "[Link to the notebook on GitHub](https://github.com/uol-mediaprocessing/group-projects-sudoku-solver/blob/master/main_extraction.ipynb)\n",
        "\n",
        "[![Open in Colab](https://raw.githubusercontent.com/uol-mediaprocessing/group-projects-sudoku-solver/master/documentation/open_in_colab.png)](https://colab.research.google.com/github/uol-mediaprocessing/group-projects-sudoku-solver/blob/master/main_extraction.ipynb)\n",
        "\n",
        "## 4. Recognition\n",
        "\n",
        "Using CNNs we classify each extracted cell as containing either a number from 1 to 9 or being empty (=0).\n",
        "\n",
        "![Recognition Visualization](https://github.com/uol-mediaprocessing/group-projects-sudoku-solver/blob/master/documentation/recognition.png?raw=true)\n",
        "\n",
        "[Link to the notebook on GitHub](https://github.com/uol-mediaprocessing/group-projects-sudoku-solver/blob/master/main_recognition.ipynb)\n",
        "\n",
        "[![Open in Colab](https://raw.githubusercontent.com/uol-mediaprocessing/group-projects-sudoku-solver/master/documentation/open_in_colab.png)](https://colab.research.google.com/github/uol-mediaprocessing/group-projects-sudoku-solver/blob/master/main_recognition.ipynb)\n",
        "\n",
        "## 5. Solving\n",
        "\n",
        "The CNN predictions are then fed into a Sudoku solving algorithm to find a solution for the empty cells.\n",
        "Puzzles we cannot find a solution for will be discarded.\n",
        "\n",
        "![Solving Visualization](https://github.com/uol-mediaprocessing/group-projects-sudoku-solver/blob/master/documentation/solving.png?raw=true)\n",
        "\n",
        "[Link to the notebook on GitHub](https://github.com/uol-mediaprocessing/group-projects-sudoku-solver/blob/master/main_solving.ipynb)\n",
        "\n",
        "[![Open in Colab](https://raw.githubusercontent.com/uol-mediaprocessing/group-projects-sudoku-solver/master/documentation/open_in_colab.png)](https://colab.research.google.com/github/uol-mediaprocessing/group-projects-sudoku-solver/blob/master/main_solving.ipynb)\n",
        "\n",
        "## 6. AR\n",
        "\n",
        "The solver's solution is then projected on top of the input image in an AR manner.\n",
        "\n",
        "![AR Visualization](https://github.com/uol-mediaprocessing/group-projects-sudoku-solver/blob/master/documentation/ar.png?raw=true)\n",
        "\n",
        "[Link to the notebook on GitHub](https://github.com/uol-mediaprocessing/group-projects-sudoku-solver/blob/master/main_ar.ipynb)\n",
        "\n",
        "[![Open in Colab](https://raw.githubusercontent.com/uol-mediaprocessing/group-projects-sudoku-solver/master/documentation/open_in_colab.png)](https://colab.research.google.com/github/uol-mediaprocessing/group-projects-sudoku-solver/blob/master/main_ar.ipynb)\n",
        "\n",
        "\n",
        "\n"
      ]
    }
  ]
}