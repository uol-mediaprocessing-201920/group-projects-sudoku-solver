{
  "nbformat": 4,
  "nbformat_minor": 0,
  "metadata": {
    "colab": {
      "name": "main_sudoku.ipynb",
      "provenance": [],
      "toc_visible": true,
      "include_colab_link": true
    },
    "kernelspec": {
      "name": "python3",
      "display_name": "Python 3"
    }
  },
  "cells": [
    {
      "cell_type": "markdown",
      "metadata": {
        "id": "view-in-github",
        "colab_type": "text"
      },
      "source": [
        "<a href=\"https://colab.research.google.com/github/uol-mediaprocessing/group-projects-sudoku-solver/blob/master/main_sudoku.ipynb\" target=\"_parent\"><img src=\"https://colab.research.google.com/assets/colab-badge.svg\" alt=\"Open In Colab\"/></a>"
      ]
    },
    {
      "cell_type": "markdown",
      "metadata": {
        "id": "CBFe62BlmuiJ",
        "colab_type": "text"
      },
      "source": [
        "# Sudoku Reader\n",
        "\n",
        "In this project a software is developed which recognizes a Sudoku puzzle and solves it automatically.\n",
        "\n",
        "![Sudoku Puzzle](https://github.com/uol-mediaprocessing/group-projects-sudoku-solver/blob/master/Aufgabe.jpg?raw=1)\n",
        "\n",
        "## Group members:\n",
        "* Justine Bruns (Business Informatics)\n",
        "\n",
        "* Dennis Kempf (Computing Science)\n",
        "\n"
      ]
    },
    {
      "cell_type": "markdown",
      "metadata": {
        "id": "_DlR1g47x-39",
        "colab_type": "text"
      },
      "source": [
        "# Milestones\n",
        "\n",
        "## Define requirements\n",
        "\n",
        "In which use cases is a Sudoku solver used?\n",
        "\n",
        "## Detect Sudoku grid\n",
        "\n",
        "1. Acquire input image to be analyzed\n",
        "    1. Read static image from storage\n",
        "    2. Use real time video stream (optional)\n",
        "\n",
        "2. Preprocess input image for further analysis\n",
        "\n",
        "3. Detect shape of Sudoku grid within preprocessed image\n",
        "\n",
        "![Detect grid](https://github.com/uol-mediaprocessing/group-projects-sudoku-solver/blob/master/documentation/detect_grid.png?raw=1)\n",
        "\n",
        "## Recognize digits\n",
        "\n",
        "1. Apply perspective transformation to Sudoku grid\n",
        "\n",
        "![](https://github.com/uol-mediaprocessing/group-projects-sudoku-solver/blob/master/documentation/transform_grid.png?raw=1)\n",
        "\n",
        "2. Extract cells from grid image\n",
        "\n",
        "![](https://github.com/uol-mediaprocessing/group-projects-sudoku-solver/blob/master/documentation/extract_cells.png?raw=1)\n",
        "\n",
        "3. Recognize digits (1 to 9) within cells\n",
        "    1. Recognize computer generated digits by classical means (e. g. template matching)\n",
        "    2. Recognize handwritten digits using artificial neural networks (trained on MNIST dataset)\n",
        "    3. Mark empty cells\n",
        "\n",
        "![](https://github.com/uol-mediaprocessing/group-projects-sudoku-solver/blob/master/documentation/recognize_digits.png?raw=1)\n",
        "\n",
        "## Solve puzzle\n",
        "\n",
        "1. Store recognized digits within matrix data structure \n",
        "\n",
        "2. Feed data structure into existing Sudoku solver\n",
        "\n",
        "![](https://github.com/uol-mediaprocessing/group-projects-sudoku-solver/blob/master/documentation/solve_puzzle.png?raw=1)\n",
        "\n",
        "3. Output solution to user\n",
        "    1. Print solved matrix in console\n",
        "    2. Draw solution onto input image (AR, optional)\n",
        "\n",
        "![](https://github.com/uol-mediaprocessing/group-projects-sudoku-solver/blob/master/documentation/output_ar.png?raw=1)"
      ]
    }
  ]
}