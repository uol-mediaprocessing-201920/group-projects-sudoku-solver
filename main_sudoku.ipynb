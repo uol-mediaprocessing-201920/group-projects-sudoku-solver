{
  "nbformat": 4,
  "nbformat_minor": 0,
  "metadata": {
    "colab": {
      "name": "main_sudoku.ipynb",
      "provenance": [],
      "include_colab_link": true
    },
    "kernelspec": {
      "name": "python3",
      "display_name": "Python 3"
    }
  },
  "cells": [
    {
      "cell_type": "markdown",
      "metadata": {
        "id": "view-in-github",
        "colab_type": "text"
      },
      "source": [
        "<a href=\"https://colab.research.google.com/github/uol-mediaprocessing/group-projects-sudoku-solver/blob/master/main_sudoku.ipynb\" target=\"_parent\"><img src=\"https://colab.research.google.com/assets/colab-badge.svg\" alt=\"Open In Colab\"/></a>"
      ]
    },
    {
      "cell_type": "markdown",
      "metadata": {
        "id": "CBFe62BlmuiJ",
        "colab_type": "text"
      },
      "source": [
        "# Sudoku Reader\n",
        "\n",
        "In this project a software is developed which recognizes a Sudoku puzzle and solves it automatically."
      ]
    },
    {
      "cell_type": "markdown",
      "metadata": {
        "id": "_DlR1g47x-39",
        "colab_type": "text"
      },
      "source": [
        "Tasks:\n",
        "*   Define use cases\n",
        "*   Recognize Sudoku Puzzles\n",
        "*   Recognize lines, contours and digits\n",
        "*   Recognize digital numbers and handwritten digits\n",
        "*   Search and integrate a good existing solver \n",
        "*   Develop a solution for augmented reality\n",
        "\n",
        "\n"
      ]
    }
  ]
}