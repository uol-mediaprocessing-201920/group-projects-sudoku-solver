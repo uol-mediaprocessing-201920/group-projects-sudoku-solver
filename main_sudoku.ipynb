{
  "nbformat": 4,
  "nbformat_minor": 0,
  "metadata": {
    "colab": {
      "name": "main_sudoku.ipynb",
      "provenance": [],
      "toc_visible": true,
      "include_colab_link": true
    },
    "kernelspec": {
      "name": "python3",
      "display_name": "Python 3"
    }
  },
  "cells": [
    {
      "cell_type": "markdown",
      "metadata": {
        "id": "view-in-github",
        "colab_type": "text"
      },
      "source": [
        "<a href=\"https://colab.research.google.com/github/uol-mediaprocessing/group-projects-sudoku-solver/blob/master/main_sudoku.ipynb\" target=\"_parent\"><img src=\"https://colab.research.google.com/assets/colab-badge.svg\" alt=\"Open In Colab\"/></a>"
      ]
    },
    {
      "cell_type": "markdown",
      "metadata": {
        "id": "CBFe62BlmuiJ",
        "colab_type": "text"
      },
      "source": [
        "# Sudoku Reader\n",
        "\n",
        "In this project a software is developed which recognizes a Sudoku puzzle and solves it automatically.\n",
        "\n",
        "![Sudoku Puzzle](https://github.com/uol-mediaprocessing/group-projects-sudoku-solver/blob/master/Aufgabe.jpg?raw=1)"
      ]
    },
    {
      "cell_type": "markdown",
      "metadata": {
        "id": "_DlR1g47x-39",
        "colab_type": "text"
      },
      "source": [
        "First milestone: **Sudoku square is found**\n",
        "\n",
        "1. Define use cases\n",
        "> In which use cases is a Sudoku solver used?\n",
        "\n",
        "2. Image Preprocessing\n",
        "> Read in the image (Sudoku puzzle) with OpenCV\n",
        "\n",
        "3. Find Sudoku Square\n",
        "> Find the outer corners of the puzzle to recognize Sudoku puzzles.\n",
        "\n",
        "4. Find vertical and horizontal lines\n",
        "\n",
        "5. Merge vertical and horizontal lines\n",
        "> The squares in the puzzle can be found with grid points\n",
        "\n",
        "Second milestone: **Digits in Sudoku puzzles are recognized**\n",
        "\n",
        "1. Recognize digital digits\n",
        "> Maybe with template matching from OpenCV\n",
        "\n",
        "2. Create a Convolutional neural network\n",
        "\n",
        "3. Train CNN with the MNIST dataset\n",
        "> The MNIST dataset is used to detect handwritten digits.\n",
        "\n",
        "4. Evaluate CNN\n",
        "> Check if predictions are correct\n",
        "\n",
        "Third milestone: **Sudoku Solver completed**\n",
        "\n",
        "1. Convert Sudoku to Matrix\n",
        "> For solving the puzzle\n",
        "\n",
        "2. Search and integrate a good existing solver \n",
        "> An algorithm that solves and fills the empty spaces in the puzzle\n",
        "\n",
        "3. Transfer the solution to augmented reality"
      ]
    }
  ]
}