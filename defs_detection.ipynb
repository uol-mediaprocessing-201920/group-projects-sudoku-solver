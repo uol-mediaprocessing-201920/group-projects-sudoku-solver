{
  "nbformat": 4,
  "nbformat_minor": 0,
  "metadata": {
    "colab": {
      "name": "Sudoku Grid Detection.ipynb",
      "provenance": [],
      "include_colab_link": true
    },
    "kernelspec": {
      "name": "python3",
      "display_name": "Python 3"
    }
  },
  "cells": [
    {
      "cell_type": "markdown",
      "metadata": {
        "id": "view-in-github",
        "colab_type": "text"
      },
      "source": [
        "<a href=\"https://colab.research.google.com/github/uol-mediaprocessing/group-projects-sudoku-solver/blob/master/defs_detection.ipynb\" target=\"_parent\"><img src=\"https://colab.research.google.com/assets/colab-badge.svg\" alt=\"Open In Colab\"/></a>"
      ]
    },
    {
      "cell_type": "code",
      "metadata": {
        "id": "Kk21fdkNe94g",
        "colab_type": "code",
        "colab": {}
      },
      "source": [
        "import cv2 as cv\n",
        "import numpy as np"
      ],
      "execution_count": 0,
      "outputs": []
    },
    {
      "cell_type": "code",
      "metadata": {
        "id": "6tbT3ivGfgF0",
        "colab_type": "code",
        "colab": {}
      },
      "source": [
        "def convert_to_grayscale(image):\n",
        "  return cv.cvtColor(image, cv.COLOR_RGB2GRAY)"
      ],
      "execution_count": 0,
      "outputs": []
    },
    {
      "cell_type": "code",
      "metadata": {
        "id": "puEniufkfvzJ",
        "colab_type": "code",
        "colab": {}
      },
      "source": [
        "def threshold_image(image, method, block_size, bias):\n",
        "  # convert relative block size to absolute block size\n",
        "  width, height = image.shape\n",
        "  block_size = int(block_size * min(width, height))\n",
        "  # if block_size is even, we must make it uneven (see def. of adaptiveThreshold)\n",
        "  if block_size % 2 == 0:\n",
        "    block_size += 1\n",
        "  return cv.adaptiveThreshold(image, 255, method, cv.THRESH_BINARY, block_size, bias)"
      ],
      "execution_count": 0,
      "outputs": []
    },
    {
      "cell_type": "code",
      "metadata": {
        "id": "qlVNywsQgDjX",
        "colab_type": "code",
        "colab": {}
      },
      "source": [
        "def find_contours(image):\n",
        "  # image must be inverted, because findContours treats white as foreground and black as background\n",
        "  # if we don't invert the image, the image border will be detected as a contour\n",
        "  image = cv.bitwise_not(image)\n",
        "  contours, _ = cv.findContours(image, cv.RETR_TREE, cv.CHAIN_APPROX_SIMPLE)\n",
        "  return contours"
      ],
      "execution_count": 0,
      "outputs": []
    },
    {
      "cell_type": "code",
      "metadata": {
        "id": "lmsyjbUGgTok",
        "colab_type": "code",
        "colab": {}
      },
      "source": [
        "def draw_contours(image, contours, thickness=0.01, color=(0, 0, 255)):\n",
        "  # convert image from grayscale to RGB\n",
        "  # necessary because we draw RGB contours\n",
        "  image = cv.cvtColor(image, cv.COLOR_GRAY2RGB)\n",
        "  height, width = image.shape[:2]\n",
        "  thickness = (height + width) / 2 * thickness\n",
        "  # draw contours using OpenCV\n",
        "  if not any(x is None for x in contours):\n",
        "    cv.drawContours(image, contours, -1, color, int(thickness))\n",
        "  return image"
      ],
      "execution_count": 0,
      "outputs": []
    },
    {
      "cell_type": "code",
      "metadata": {
        "id": "_D1vS_0Agnmb",
        "colab_type": "code",
        "colab": {}
      },
      "source": [
        "def approximate_contour(contour, precision):\n",
        "  # convert relative precision to absolute precision (epsilon)\n",
        "  _, _, width, height = cv.boundingRect(contour)\n",
        "  epsilon = (width + height) / 2 * precision\n",
        "  return cv.approxPolyDP(contour, epsilon, closed=True)"
      ],
      "execution_count": 0,
      "outputs": []
    },
    {
      "cell_type": "code",
      "metadata": {
        "id": "njAdmZmthOjT",
        "colab_type": "code",
        "colab": {}
      },
      "source": [
        "def get_foursided_contours(contours):\n",
        "  return [contour for contour in contours if len(contour) == 4]"
      ],
      "execution_count": 0,
      "outputs": []
    },
    {
      "cell_type": "code",
      "metadata": {
        "id": "JFLPDCLPhZDs",
        "colab_type": "code",
        "colab": {}
      },
      "source": [
        "def get_largest_contour(contours):\n",
        "  lengths = [cv.contourArea(x) for x in contours]\n",
        "  longest = np.argmax(lengths)\n",
        "  return contours[longest]"
      ],
      "execution_count": 0,
      "outputs": []
    },
    {
      "cell_type": "code",
      "metadata": {
        "id": "saWru1nkhrrI",
        "colab_type": "code",
        "colab": {}
      },
      "source": [
        "def check_sudoku_contour(image, contour, min_area):\n",
        "  if contour is None:\n",
        "    return False\n",
        "  width, height = image.shape[:2]\n",
        "  total_image_area = width * height\n",
        "  contour_area = cv.contourArea(contour)\n",
        "  return contour_area / total_image_area > min_area"
      ],
      "execution_count": 0,
      "outputs": []
    }
  ]
}